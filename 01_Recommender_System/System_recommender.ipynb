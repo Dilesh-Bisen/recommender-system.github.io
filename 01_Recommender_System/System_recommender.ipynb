{
 "cells": [
  {
   "cell_type": "code",
   "execution_count": 1,
   "id": "022f5486-54e4-4506-86f9-046168cbc43d",
   "metadata": {
    "execution": {
     "iopub.execute_input": "2024-08-02T13:14:21.839639Z",
     "iopub.status.busy": "2024-08-02T13:14:21.839639Z",
     "iopub.status.idle": "2024-08-02T13:14:22.835869Z",
     "shell.execute_reply": "2024-08-02T13:14:22.835869Z",
     "shell.execute_reply.started": "2024-08-02T13:14:21.839639Z"
    }
   },
   "outputs": [],
   "source": [
    "import numpy as np \n",
    "import pandas as pd \n",
    "\n",
    "movies = pd.read_csv('DataSets/tmdb_5000_movies.csv')\n",
    "credits = pd.read_csv('DataSets/tmdb_5000_credits.csv')"
   ]
  },
  {
   "cell_type": "markdown",
   "id": "932c871b-a881-4420-ab56-723efb6e4dd6",
   "metadata": {},
   "source": [
    "# <b>Data Preprocessing</b>"
   ]
  },
  {
   "cell_type": "code",
   "execution_count": 2,
   "id": "79e9028f-83bc-4b2e-93d7-604ba64568ce",
   "metadata": {
    "execution": {
     "iopub.execute_input": "2024-08-02T13:14:22.837378Z",
     "iopub.status.busy": "2024-08-02T13:14:22.837378Z",
     "iopub.status.idle": "2024-08-02T13:14:22.851198Z",
     "shell.execute_reply": "2024-08-02T13:14:22.850598Z",
     "shell.execute_reply.started": "2024-08-02T13:14:22.837378Z"
    }
   },
   "outputs": [],
   "source": [
    "movies_new = movies.merge(credits,on='title')"
   ]
  },
  {
   "cell_type": "code",
   "execution_count": 3,
   "id": "bf45a835-8b22-4fdd-9865-e0e88ad1a1ac",
   "metadata": {
    "execution": {
     "iopub.execute_input": "2024-08-02T13:14:22.851198Z",
     "iopub.status.busy": "2024-08-02T13:14:22.851198Z",
     "iopub.status.idle": "2024-08-02T13:14:22.953389Z",
     "shell.execute_reply": "2024-08-02T13:14:22.953389Z",
     "shell.execute_reply.started": "2024-08-02T13:14:22.851198Z"
    }
   },
   "outputs": [],
   "source": [
    "# movies_new.info()"
   ]
  },
  {
   "cell_type": "code",
   "execution_count": 4,
   "id": "0d2ce566-0562-45c0-85d6-c90a684cde8c",
   "metadata": {
    "execution": {
     "iopub.execute_input": "2024-08-02T13:14:22.953389Z",
     "iopub.status.busy": "2024-08-02T13:14:22.953389Z",
     "iopub.status.idle": "2024-08-02T13:14:22.959322Z",
     "shell.execute_reply": "2024-08-02T13:14:22.959322Z",
     "shell.execute_reply.started": "2024-08-02T13:14:22.953389Z"
    }
   },
   "outputs": [],
   "source": [
    "movies_new = movies_new[['genres','keywords','overview','title','movie_id','cast','crew']]"
   ]
  },
  {
   "cell_type": "code",
   "execution_count": 5,
   "id": "499bd5f5-fc26-4cce-8c7f-0b0b7a97d15f",
   "metadata": {
    "execution": {
     "iopub.execute_input": "2024-08-02T13:14:22.959322Z",
     "iopub.status.busy": "2024-08-02T13:14:22.959322Z",
     "iopub.status.idle": "2024-08-02T13:14:22.969374Z",
     "shell.execute_reply": "2024-08-02T13:14:22.969374Z",
     "shell.execute_reply.started": "2024-08-02T13:14:22.959322Z"
    }
   },
   "outputs": [
    {
     "data": {
      "text/plain": [
       "genres      0\n",
       "keywords    0\n",
       "overview    3\n",
       "title       0\n",
       "movie_id    0\n",
       "cast        0\n",
       "crew        0\n",
       "dtype: int64"
      ]
     },
     "execution_count": 5,
     "metadata": {},
     "output_type": "execute_result"
    }
   ],
   "source": [
    "movies_new.isnull().sum()"
   ]
  },
  {
   "cell_type": "code",
   "execution_count": 6,
   "id": "e1fb4c9f-2e1a-46fc-affe-9919e086579a",
   "metadata": {
    "execution": {
     "iopub.execute_input": "2024-08-02T13:14:22.969374Z",
     "iopub.status.busy": "2024-08-02T13:14:22.969374Z",
     "iopub.status.idle": "2024-08-02T13:14:22.977418Z",
     "shell.execute_reply": "2024-08-02T13:14:22.977418Z",
     "shell.execute_reply.started": "2024-08-02T13:14:22.969374Z"
    }
   },
   "outputs": [],
   "source": [
    "movies_new.dropna(inplace=True)"
   ]
  },
  {
   "cell_type": "code",
   "execution_count": 7,
   "id": "b96668c6-0399-4080-ae0d-6d430d5da3fd",
   "metadata": {
    "execution": {
     "iopub.execute_input": "2024-08-02T13:14:22.977418Z",
     "iopub.status.busy": "2024-08-02T13:14:22.977418Z",
     "iopub.status.idle": "2024-08-02T13:14:23.094145Z",
     "shell.execute_reply": "2024-08-02T13:14:23.094145Z",
     "shell.execute_reply.started": "2024-08-02T13:14:22.977418Z"
    }
   },
   "outputs": [
    {
     "data": {
      "text/plain": [
       "np.int64(0)"
      ]
     },
     "execution_count": 7,
     "metadata": {},
     "output_type": "execute_result"
    }
   ],
   "source": [
    "movies_new.duplicated().sum()"
   ]
  },
  {
   "cell_type": "code",
   "execution_count": 8,
   "id": "56f55ebb-6697-4626-b094-b599fc25d815",
   "metadata": {
    "execution": {
     "iopub.execute_input": "2024-08-02T13:14:23.094145Z",
     "iopub.status.busy": "2024-08-02T13:14:23.094145Z",
     "iopub.status.idle": "2024-08-02T13:14:23.101160Z",
     "shell.execute_reply": "2024-08-02T13:14:23.101160Z",
     "shell.execute_reply.started": "2024-08-02T13:14:23.094145Z"
    }
   },
   "outputs": [],
   "source": [
    "import ast\n",
    "\n",
    "def fetch_genre_names(str):\n",
    "    genres_name_list = []\n",
    "    for obj in ast.literal_eval(str):\n",
    "        genres_name_list.append(obj['name'])\n",
    "    return genres_name_list\n",
    "\n",
    "def fetch_characters(str):\n",
    "    charaters_name_list = []\n",
    "    cnt = 0\n",
    "    for obj in ast.literal_eval(str):\n",
    "        if(cnt!=3):\n",
    "            charaters_name_list.append(obj['name'])\n",
    "            cnt+=1\n",
    "        else:\n",
    "            break\n",
    "    return charaters_name_list\n",
    "\n",
    "def fetch_director(str):\n",
    "    directors_name_list = []\n",
    "    for obj in ast.literal_eval(str):\n",
    "        if obj['job'] == 'Director':\n",
    "            directors_name_list.append(obj['name'])\n",
    "            break\n",
    "    return directors_name_list"
   ]
  },
  {
   "cell_type": "code",
   "execution_count": 9,
   "id": "7511c9f4-d2eb-46bd-9f64-30ec485d37cf",
   "metadata": {
    "execution": {
     "iopub.execute_input": "2024-08-02T13:14:23.101160Z",
     "iopub.status.busy": "2024-08-02T13:14:23.101160Z",
     "iopub.status.idle": "2024-08-02T13:16:13.168644Z",
     "shell.execute_reply": "2024-08-02T13:16:13.168644Z",
     "shell.execute_reply.started": "2024-08-02T13:14:23.101160Z"
    }
   },
   "outputs": [],
   "source": [
    "# convert string to list\n",
    "movies_new['genres'] = movies_new['genres'].apply(fetch_genre_names)\n",
    "movies_new['keywords'] = movies_new['keywords'].apply(fetch_genre_names)\n",
    "movies_new['cast'] = movies_new['cast'].apply(fetch_characters)\n",
    "movies_new['crew'] = movies_new['crew'].apply(fetch_director)"
   ]
  },
  {
   "cell_type": "code",
   "execution_count": 10,
   "id": "b324e84d-4d9f-45c7-8bbc-75fd28e6a94c",
   "metadata": {
    "execution": {
     "iopub.execute_input": "2024-08-02T13:16:13.168644Z",
     "iopub.status.busy": "2024-08-02T13:16:13.168644Z",
     "iopub.status.idle": "2024-08-02T13:16:13.790385Z",
     "shell.execute_reply": "2024-08-02T13:16:13.790385Z",
     "shell.execute_reply.started": "2024-08-02T13:16:13.168644Z"
    }
   },
   "outputs": [],
   "source": [
    "movies_new['overview'] = movies_new['overview'].apply(lambda x: x.split())"
   ]
  },
  {
   "cell_type": "code",
   "execution_count": 11,
   "id": "634a093c-54f8-4023-8744-be99fe720d3d",
   "metadata": {
    "execution": {
     "iopub.execute_input": "2024-08-02T13:16:13.804339Z",
     "iopub.status.busy": "2024-08-02T13:16:13.790385Z",
     "iopub.status.idle": "2024-08-02T13:16:15.056166Z",
     "shell.execute_reply": "2024-08-02T13:16:14.905710Z",
     "shell.execute_reply.started": "2024-08-02T13:16:13.804339Z"
    }
   },
   "outputs": [],
   "source": [
    "movies_new['genres'] = movies_new['genres'].apply(lambda x: [i.replace(\" \",\"\") for i in x])\n",
    "movies_new['keywords'] = movies_new['keywords'].apply(lambda x: [i.replace(\" \",\"\") for i in x])\n",
    "movies_new['cast'] = movies_new['cast'].apply(lambda x: [i.replace(\" \",\"\") for i in x])\n",
    "movies_new['crew'] = movies_new['crew'].apply(lambda x: [i.replace(\" \",\"\") for i in x])"
   ]
  },
  {
   "cell_type": "code",
   "execution_count": 12,
   "id": "74b5e551-9a52-46ba-8fdd-981faa587be1",
   "metadata": {
    "execution": {
     "iopub.execute_input": "2024-08-02T13:16:15.056673Z",
     "iopub.status.busy": "2024-08-02T13:16:15.056673Z",
     "iopub.status.idle": "2024-08-02T13:16:15.234898Z",
     "shell.execute_reply": "2024-08-02T13:16:15.234898Z",
     "shell.execute_reply.started": "2024-08-02T13:16:15.056673Z"
    }
   },
   "outputs": [],
   "source": [
    "movies_new['tags'] = movies_new['genres'] + movies_new['keywords'] + movies_new['overview'] + movies_new['cast'] + movies_new['crew']"
   ]
  },
  {
   "cell_type": "code",
   "execution_count": 13,
   "id": "b55be08b-2317-41cb-8297-204bf6c4b7db",
   "metadata": {
    "execution": {
     "iopub.execute_input": "2024-08-02T13:16:15.234898Z",
     "iopub.status.busy": "2024-08-02T13:16:15.234898Z",
     "iopub.status.idle": "2024-08-02T13:16:15.622768Z",
     "shell.execute_reply": "2024-08-02T13:16:15.460204Z",
     "shell.execute_reply.started": "2024-08-02T13:16:15.234898Z"
    }
   },
   "outputs": [],
   "source": [
    "data = movies_new[['movie_id','title','tags']]"
   ]
  },
  {
   "cell_type": "code",
   "execution_count": 14,
   "id": "df58a93a-f910-4566-984b-e86a6c72ae21",
   "metadata": {
    "execution": {
     "iopub.execute_input": "2024-08-02T13:16:15.672238Z",
     "iopub.status.busy": "2024-08-02T13:16:15.672238Z",
     "iopub.status.idle": "2024-08-02T13:16:15.939419Z",
     "shell.execute_reply": "2024-08-02T13:16:15.926139Z",
     "shell.execute_reply.started": "2024-08-02T13:16:15.672238Z"
    }
   },
   "outputs": [],
   "source": [
    "# convert list to string\n",
    "data.loc[:,'tags'] = data['tags'].apply(lambda x: \" \".join(x))\n",
    "# lowercase\n",
    "data.loc[:,'tags'] = data['tags'].apply(lambda x: x.lower())"
   ]
  },
  {
   "cell_type": "code",
   "execution_count": 15,
   "id": "8c189c26-8923-4e96-b522-1baab4a5b261",
   "metadata": {
    "execution": {
     "iopub.execute_input": "2024-08-02T13:16:15.945880Z",
     "iopub.status.busy": "2024-08-02T13:16:15.944816Z",
     "iopub.status.idle": "2024-08-02T13:16:33.319894Z",
     "shell.execute_reply": "2024-08-02T13:16:33.319894Z",
     "shell.execute_reply.started": "2024-08-02T13:16:15.945880Z"
    }
   },
   "outputs": [],
   "source": [
    "import nltk\n",
    "from nltk.stem.porter import PorterStemmer\n",
    "ps = PorterStemmer()\n",
    "\n",
    "def stem(text):\n",
    "    stem_words = []\n",
    "    for i in text.split():\n",
    "        stem_words.append(ps.stem(i))\n",
    "    return \" \".join(stem_words)"
   ]
  },
  {
   "cell_type": "code",
   "execution_count": 16,
   "id": "f080dcf7-8efa-4e6f-bddf-c1c94dc22fe9",
   "metadata": {
    "execution": {
     "iopub.execute_input": "2024-08-02T13:16:33.322977Z",
     "iopub.status.busy": "2024-08-02T13:16:33.322977Z",
     "iopub.status.idle": "2024-08-02T13:17:47.033003Z",
     "shell.execute_reply": "2024-08-02T13:17:47.017335Z",
     "shell.execute_reply.started": "2024-08-02T13:16:33.322977Z"
    }
   },
   "outputs": [],
   "source": [
    "data.loc[:,'tags'] = data['tags'].apply(stem)"
   ]
  },
  {
   "cell_type": "code",
   "execution_count": 17,
   "id": "7006d325-a8f4-4736-b495-12492b676bc7",
   "metadata": {
    "execution": {
     "iopub.execute_input": "2024-08-02T13:17:47.033003Z",
     "iopub.status.busy": "2024-08-02T13:17:47.033003Z",
     "iopub.status.idle": "2024-08-02T13:17:47.727320Z",
     "shell.execute_reply": "2024-08-02T13:17:47.569741Z",
     "shell.execute_reply.started": "2024-08-02T13:17:47.033003Z"
    }
   },
   "outputs": [
    {
     "data": {
      "text/html": [
       "<div>\n",
       "<style scoped>\n",
       "    .dataframe tbody tr th:only-of-type {\n",
       "        vertical-align: middle;\n",
       "    }\n",
       "\n",
       "    .dataframe tbody tr th {\n",
       "        vertical-align: top;\n",
       "    }\n",
       "\n",
       "    .dataframe thead th {\n",
       "        text-align: right;\n",
       "    }\n",
       "</style>\n",
       "<table border=\"1\" class=\"dataframe\">\n",
       "  <thead>\n",
       "    <tr style=\"text-align: right;\">\n",
       "      <th></th>\n",
       "      <th>movie_id</th>\n",
       "      <th>title</th>\n",
       "      <th>tags</th>\n",
       "    </tr>\n",
       "  </thead>\n",
       "  <tbody>\n",
       "    <tr>\n",
       "      <th>0</th>\n",
       "      <td>19995</td>\n",
       "      <td>Avatar</td>\n",
       "      <td>action adventur fantasi sciencefict culturecla...</td>\n",
       "    </tr>\n",
       "    <tr>\n",
       "      <th>1</th>\n",
       "      <td>285</td>\n",
       "      <td>Pirates of the Caribbean: At World's End</td>\n",
       "      <td>adventur fantasi action ocean drugabus exotici...</td>\n",
       "    </tr>\n",
       "    <tr>\n",
       "      <th>2</th>\n",
       "      <td>206647</td>\n",
       "      <td>Spectre</td>\n",
       "      <td>action adventur crime spi basedonnovel secreta...</td>\n",
       "    </tr>\n",
       "    <tr>\n",
       "      <th>3</th>\n",
       "      <td>49026</td>\n",
       "      <td>The Dark Knight Rises</td>\n",
       "      <td>action crime drama thriller dccomic crimefight...</td>\n",
       "    </tr>\n",
       "    <tr>\n",
       "      <th>4</th>\n",
       "      <td>49529</td>\n",
       "      <td>John Carter</td>\n",
       "      <td>action adventur sciencefict basedonnovel mar m...</td>\n",
       "    </tr>\n",
       "    <tr>\n",
       "      <th>...</th>\n",
       "      <td>...</td>\n",
       "      <td>...</td>\n",
       "      <td>...</td>\n",
       "    </tr>\n",
       "    <tr>\n",
       "      <th>4804</th>\n",
       "      <td>9367</td>\n",
       "      <td>El Mariachi</td>\n",
       "      <td>action crime thriller unitedstates–mexicobarri...</td>\n",
       "    </tr>\n",
       "    <tr>\n",
       "      <th>4805</th>\n",
       "      <td>72766</td>\n",
       "      <td>Newlyweds</td>\n",
       "      <td>comedi romanc a newlyw couple' honeymoon is up...</td>\n",
       "    </tr>\n",
       "    <tr>\n",
       "      <th>4806</th>\n",
       "      <td>231617</td>\n",
       "      <td>Signed, Sealed, Delivered</td>\n",
       "      <td>comedi drama romanc tvmovi date loveatfirstsig...</td>\n",
       "    </tr>\n",
       "    <tr>\n",
       "      <th>4807</th>\n",
       "      <td>126186</td>\n",
       "      <td>Shanghai Calling</td>\n",
       "      <td>when ambiti new york attorney sam is sent to s...</td>\n",
       "    </tr>\n",
       "    <tr>\n",
       "      <th>4808</th>\n",
       "      <td>25975</td>\n",
       "      <td>My Date with Drew</td>\n",
       "      <td>documentari obsess camcord crush dreamgirl eve...</td>\n",
       "    </tr>\n",
       "  </tbody>\n",
       "</table>\n",
       "<p>4806 rows × 3 columns</p>\n",
       "</div>"
      ],
      "text/plain": [
       "      movie_id                                     title  \\\n",
       "0        19995                                    Avatar   \n",
       "1          285  Pirates of the Caribbean: At World's End   \n",
       "2       206647                                   Spectre   \n",
       "3        49026                     The Dark Knight Rises   \n",
       "4        49529                               John Carter   \n",
       "...        ...                                       ...   \n",
       "4804      9367                               El Mariachi   \n",
       "4805     72766                                 Newlyweds   \n",
       "4806    231617                 Signed, Sealed, Delivered   \n",
       "4807    126186                          Shanghai Calling   \n",
       "4808     25975                         My Date with Drew   \n",
       "\n",
       "                                                   tags  \n",
       "0     action adventur fantasi sciencefict culturecla...  \n",
       "1     adventur fantasi action ocean drugabus exotici...  \n",
       "2     action adventur crime spi basedonnovel secreta...  \n",
       "3     action crime drama thriller dccomic crimefight...  \n",
       "4     action adventur sciencefict basedonnovel mar m...  \n",
       "...                                                 ...  \n",
       "4804  action crime thriller unitedstates–mexicobarri...  \n",
       "4805  comedi romanc a newlyw couple' honeymoon is up...  \n",
       "4806  comedi drama romanc tvmovi date loveatfirstsig...  \n",
       "4807  when ambiti new york attorney sam is sent to s...  \n",
       "4808  documentari obsess camcord crush dreamgirl eve...  \n",
       "\n",
       "[4806 rows x 3 columns]"
      ]
     },
     "execution_count": 17,
     "metadata": {},
     "output_type": "execute_result"
    }
   ],
   "source": [
    "data"
   ]
  },
  {
   "cell_type": "markdown",
   "id": "ea6f8faa-7d7a-4870-9e79-fb00d7a41540",
   "metadata": {},
   "source": [
    "# <b>Vectorization"
   ]
  },
  {
   "cell_type": "code",
   "execution_count": 18,
   "id": "643722cf-8542-4341-9a3a-fcf5efb34de5",
   "metadata": {
    "execution": {
     "iopub.execute_input": "2024-08-02T13:17:47.727320Z",
     "iopub.status.busy": "2024-08-02T13:17:47.727320Z",
     "iopub.status.idle": "2024-08-02T13:17:47.734853Z",
     "shell.execute_reply": "2024-08-02T13:17:47.733570Z",
     "shell.execute_reply.started": "2024-08-02T13:17:47.727320Z"
    }
   },
   "outputs": [],
   "source": [
    "from sklearn.feature_extraction.text import CountVectorizer\n",
    "cv = CountVectorizer(stop_words='english',max_features=5000)"
   ]
  },
  {
   "cell_type": "code",
   "execution_count": 19,
   "id": "944ddd66-2fc3-4a12-b338-5786f935d315",
   "metadata": {
    "execution": {
     "iopub.execute_input": "2024-08-02T13:17:47.736542Z",
     "iopub.status.busy": "2024-08-02T13:17:47.735362Z",
     "iopub.status.idle": "2024-08-02T13:17:53.509127Z",
     "shell.execute_reply": "2024-08-02T13:17:53.509127Z",
     "shell.execute_reply.started": "2024-08-02T13:17:47.736542Z"
    }
   },
   "outputs": [],
   "source": [
    "vectors = cv.fit_transform(data['tags']).toarray()"
   ]
  },
  {
   "cell_type": "code",
   "execution_count": 20,
   "id": "ccc7e837-d504-4928-af28-46cd939fd7b2",
   "metadata": {
    "execution": {
     "iopub.execute_input": "2024-08-02T13:17:53.509127Z",
     "iopub.status.busy": "2024-08-02T13:17:53.509127Z",
     "iopub.status.idle": "2024-08-02T13:18:20.506093Z",
     "shell.execute_reply": "2024-08-02T13:18:20.500088Z",
     "shell.execute_reply.started": "2024-08-02T13:17:53.509127Z"
    }
   },
   "outputs": [],
   "source": [
    "from sklearn.metrics.pairwise import cosine_similarity\n",
    "cs = cosine_similarity(vectors)"
   ]
  },
  {
   "cell_type": "code",
   "execution_count": 21,
   "id": "b723539e-416f-40c7-b86d-85cadab202e6",
   "metadata": {
    "execution": {
     "iopub.execute_input": "2024-08-02T13:18:20.548570Z",
     "iopub.status.busy": "2024-08-02T13:18:20.531776Z",
     "iopub.status.idle": "2024-08-02T13:18:20.629301Z",
     "shell.execute_reply": "2024-08-02T13:18:20.629301Z",
     "shell.execute_reply.started": "2024-08-02T13:18:20.548570Z"
    }
   },
   "outputs": [],
   "source": [
    "def recommend(movie):\n",
    "    idx = data[data['title'] == movie].index[0]\n",
    "    distances = cs[idx]\n",
    "    movies_list = sorted(list(enumerate(distances)), reverse=True, key=lambda x:x[1])[1:6]\n",
    "\n",
    "    for i in movies_list:\n",
    "        print(data.iloc[i[0]].title)"
   ]
  },
  {
   "cell_type": "code",
   "execution_count": 24,
   "id": "76e8fc51-0dd4-4759-b994-bfd7620c6acc",
   "metadata": {
    "execution": {
     "iopub.execute_input": "2024-08-02T13:22:19.327341Z",
     "iopub.status.busy": "2024-08-02T13:22:19.311313Z",
     "iopub.status.idle": "2024-08-02T13:22:19.391649Z",
     "shell.execute_reply": "2024-08-02T13:22:19.391649Z",
     "shell.execute_reply.started": "2024-08-02T13:22:19.311313Z"
    }
   },
   "outputs": [
    {
     "name": "stdout",
     "output_type": "stream",
     "text": [
      "Raising Helen\n",
      "Memoirs of an Invisible Man\n",
      "Marley & Me\n",
      "The Truman Show\n",
      "Synecdoche, New York\n"
     ]
    }
   ],
   "source": [
    "recommend('Up')"
   ]
  },
  {
   "cell_type": "code",
   "execution_count": null,
   "id": "c8b3852c-bfa9-4e3d-9dd5-474efe0a87b8",
   "metadata": {
    "execution": {
     "iopub.status.busy": "2024-08-02T13:18:35.585890Z",
     "iopub.status.idle": "2024-08-02T13:18:35.585890Z",
     "shell.execute_reply": "2024-08-02T13:18:35.585890Z",
     "shell.execute_reply.started": "2024-08-02T13:18:35.585890Z"
    }
   },
   "outputs": [],
   "source": [
    "import pickle\n",
    "pickle.dump(data.to_dict(),open('Output_file/movies.pkl','wb'))\n",
    "pickle.dump(cs,open('Output_file/similarity.pkl','wb'))"
   ]
  },
  {
   "cell_type": "code",
   "execution_count": null,
   "id": "910311c1-98eb-4a73-b0a8-f1b87f268e89",
   "metadata": {},
   "outputs": [],
   "source": []
  },
  {
   "cell_type": "code",
   "execution_count": null,
   "id": "26db2111-1344-44ca-9cc5-e65681be59ae",
   "metadata": {},
   "outputs": [],
   "source": []
  },
  {
   "cell_type": "code",
   "execution_count": null,
   "id": "a922b221-a859-40c5-bda6-d6a4870a4972",
   "metadata": {},
   "outputs": [],
   "source": []
  }
 ],
 "metadata": {
  "kernelspec": {
   "display_name": "Python 3 (ipykernel)",
   "language": "python",
   "name": "python3"
  },
  "language_info": {
   "codemirror_mode": {
    "name": "ipython",
    "version": 3
   },
   "file_extension": ".py",
   "mimetype": "text/x-python",
   "name": "python",
   "nbconvert_exporter": "python",
   "pygments_lexer": "ipython3",
   "version": "3.12.4"
  },
  "widgets": {
   "application/vnd.jupyter.widget-state+json": {
    "state": {},
    "version_major": 2,
    "version_minor": 0
   }
  }
 },
 "nbformat": 4,
 "nbformat_minor": 5
}
