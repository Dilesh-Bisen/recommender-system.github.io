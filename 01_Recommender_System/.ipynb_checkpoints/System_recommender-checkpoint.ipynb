{
 "cells": [
  {
   "cell_type": "code",
   "execution_count": 1,
   "id": "022f5486-54e4-4506-86f9-046168cbc43d",
   "metadata": {
    "execution": {
     "iopub.execute_input": "2024-08-01T18:32:14.126805Z",
     "iopub.status.busy": "2024-08-01T18:32:14.126805Z",
     "iopub.status.idle": "2024-08-01T18:32:18.833631Z",
     "shell.execute_reply": "2024-08-01T18:32:18.833631Z",
     "shell.execute_reply.started": "2024-08-01T18:32:14.126805Z"
    }
   },
   "outputs": [],
   "source": [
    "import numpy as np \n",
    "import pandas as pd \n",
    "\n",
    "movies = pd.read_csv('DataSets/tmdb_5000_movies.csv')\n",
    "credits = pd.read_csv('DataSets/tmdb_5000_credits.csv')"
   ]
  },
  {
   "cell_type": "markdown",
   "id": "932c871b-a881-4420-ab56-723efb6e4dd6",
   "metadata": {},
   "source": [
    "# <b>Data Preprocessing</b>"
   ]
  },
  {
   "cell_type": "code",
   "execution_count": 2,
   "id": "79e9028f-83bc-4b2e-93d7-604ba64568ce",
   "metadata": {
    "execution": {
     "iopub.execute_input": "2024-08-01T18:32:18.835986Z",
     "iopub.status.busy": "2024-08-01T18:32:18.835986Z",
     "iopub.status.idle": "2024-08-01T18:32:18.850656Z",
     "shell.execute_reply": "2024-08-01T18:32:18.850656Z",
     "shell.execute_reply.started": "2024-08-01T18:32:18.835986Z"
    }
   },
   "outputs": [],
   "source": [
    "movies_new = movies.merge(credits,on='title')"
   ]
  },
  {
   "cell_type": "code",
   "execution_count": 3,
   "id": "bf45a835-8b22-4fdd-9865-e0e88ad1a1ac",
   "metadata": {
    "execution": {
     "iopub.execute_input": "2024-08-01T18:32:18.852664Z",
     "iopub.status.busy": "2024-08-01T18:32:18.852664Z",
     "iopub.status.idle": "2024-08-01T18:32:18.855438Z",
     "shell.execute_reply": "2024-08-01T18:32:18.855438Z",
     "shell.execute_reply.started": "2024-08-01T18:32:18.852664Z"
    }
   },
   "outputs": [],
   "source": [
    "# movies_new.info()"
   ]
  },
  {
   "cell_type": "code",
   "execution_count": 4,
   "id": "0d2ce566-0562-45c0-85d6-c90a684cde8c",
   "metadata": {
    "execution": {
     "iopub.execute_input": "2024-08-01T18:32:18.858090Z",
     "iopub.status.busy": "2024-08-01T18:32:18.856823Z",
     "iopub.status.idle": "2024-08-01T18:32:18.867259Z",
     "shell.execute_reply": "2024-08-01T18:32:18.867259Z",
     "shell.execute_reply.started": "2024-08-01T18:32:18.858090Z"
    }
   },
   "outputs": [],
   "source": [
    "movies_new = movies_new[['genres','keywords','overview','title','movie_id','cast','crew']]"
   ]
  },
  {
   "cell_type": "code",
   "execution_count": 5,
   "id": "499bd5f5-fc26-4cce-8c7f-0b0b7a97d15f",
   "metadata": {
    "execution": {
     "iopub.execute_input": "2024-08-01T18:32:18.868878Z",
     "iopub.status.busy": "2024-08-01T18:32:18.868878Z",
     "iopub.status.idle": "2024-08-01T18:32:18.882305Z",
     "shell.execute_reply": "2024-08-01T18:32:18.882305Z",
     "shell.execute_reply.started": "2024-08-01T18:32:18.868878Z"
    }
   },
   "outputs": [
    {
     "data": {
      "text/plain": [
       "genres      0\n",
       "keywords    0\n",
       "overview    3\n",
       "title       0\n",
       "movie_id    0\n",
       "cast        0\n",
       "crew        0\n",
       "dtype: int64"
      ]
     },
     "execution_count": 5,
     "metadata": {},
     "output_type": "execute_result"
    }
   ],
   "source": [
    "movies_new.isnull().sum()"
   ]
  },
  {
   "cell_type": "code",
   "execution_count": 6,
   "id": "e1fb4c9f-2e1a-46fc-affe-9919e086579a",
   "metadata": {
    "execution": {
     "iopub.execute_input": "2024-08-01T18:32:18.885312Z",
     "iopub.status.busy": "2024-08-01T18:32:18.884311Z",
     "iopub.status.idle": "2024-08-01T18:32:18.897369Z",
     "shell.execute_reply": "2024-08-01T18:32:18.896362Z",
     "shell.execute_reply.started": "2024-08-01T18:32:18.885312Z"
    }
   },
   "outputs": [],
   "source": [
    "movies_new.dropna(inplace=True)"
   ]
  },
  {
   "cell_type": "code",
   "execution_count": 7,
   "id": "b96668c6-0399-4080-ae0d-6d430d5da3fd",
   "metadata": {
    "execution": {
     "iopub.execute_input": "2024-08-01T18:32:18.898370Z",
     "iopub.status.busy": "2024-08-01T18:32:18.897369Z",
     "iopub.status.idle": "2024-08-01T18:32:19.102268Z",
     "shell.execute_reply": "2024-08-01T18:32:19.102268Z",
     "shell.execute_reply.started": "2024-08-01T18:32:18.898370Z"
    }
   },
   "outputs": [
    {
     "data": {
      "text/plain": [
       "np.int64(0)"
      ]
     },
     "execution_count": 7,
     "metadata": {},
     "output_type": "execute_result"
    }
   ],
   "source": [
    "movies_new.duplicated().sum()"
   ]
  },
  {
   "cell_type": "code",
   "execution_count": 8,
   "id": "56f55ebb-6697-4626-b094-b599fc25d815",
   "metadata": {
    "execution": {
     "iopub.execute_input": "2024-08-01T18:32:19.105345Z",
     "iopub.status.busy": "2024-08-01T18:32:19.104275Z",
     "iopub.status.idle": "2024-08-01T18:32:19.112232Z",
     "shell.execute_reply": "2024-08-01T18:32:19.112232Z",
     "shell.execute_reply.started": "2024-08-01T18:32:19.105345Z"
    }
   },
   "outputs": [],
   "source": [
    "import ast\n",
    "\n",
    "def fetch_genre_names(str):\n",
    "    genres_name_list = []\n",
    "    for obj in ast.literal_eval(str):\n",
    "        genres_name_list.append(obj['name'])\n",
    "    return genres_name_list\n",
    "\n",
    "def fetch_characters(str):\n",
    "    charaters_name_list = []\n",
    "    cnt = 0\n",
    "    for obj in ast.literal_eval(str):\n",
    "        if(cnt!=3):\n",
    "            charaters_name_list.append(obj['name'])\n",
    "            cnt+=1\n",
    "        else:\n",
    "            break\n",
    "    return charaters_name_list\n",
    "\n",
    "def fetch_director(str):\n",
    "    directors_name_list = []\n",
    "    for obj in ast.literal_eval(str):\n",
    "        if obj['job'] == 'Director':\n",
    "            directors_name_list.append(obj['name'])\n",
    "            break\n",
    "    return directors_name_list"
   ]
  },
  {
   "cell_type": "code",
   "execution_count": 9,
   "id": "7511c9f4-d2eb-46bd-9f64-30ec485d37cf",
   "metadata": {
    "execution": {
     "iopub.execute_input": "2024-08-01T18:32:19.114747Z",
     "iopub.status.busy": "2024-08-01T18:32:19.114241Z",
     "iopub.status.idle": "2024-08-01T18:32:37.926227Z",
     "shell.execute_reply": "2024-08-01T18:32:37.926227Z",
     "shell.execute_reply.started": "2024-08-01T18:32:19.114241Z"
    }
   },
   "outputs": [],
   "source": [
    "# convert string to list\n",
    "movies_new['genres'] = movies_new['genres'].apply(fetch_genre_names)\n",
    "movies_new['keywords'] = movies_new['keywords'].apply(fetch_genre_names)\n",
    "movies_new['cast'] = movies_new['cast'].apply(fetch_characters)\n",
    "movies_new['crew'] = movies_new['crew'].apply(fetch_director)"
   ]
  },
  {
   "cell_type": "code",
   "execution_count": 10,
   "id": "b324e84d-4d9f-45c7-8bbc-75fd28e6a94c",
   "metadata": {
    "execution": {
     "iopub.execute_input": "2024-08-01T18:32:37.932637Z",
     "iopub.status.busy": "2024-08-01T18:32:37.930323Z",
     "iopub.status.idle": "2024-08-01T18:32:38.058283Z",
     "shell.execute_reply": "2024-08-01T18:32:38.058283Z",
     "shell.execute_reply.started": "2024-08-01T18:32:37.932637Z"
    }
   },
   "outputs": [],
   "source": [
    "movies_new['overview'] = movies_new['overview'].apply(lambda x: x.split())"
   ]
  },
  {
   "cell_type": "code",
   "execution_count": 11,
   "id": "634a093c-54f8-4023-8744-be99fe720d3d",
   "metadata": {
    "execution": {
     "iopub.execute_input": "2024-08-01T18:32:38.065527Z",
     "iopub.status.busy": "2024-08-01T18:32:38.064303Z",
     "iopub.status.idle": "2024-08-01T18:32:38.252191Z",
     "shell.execute_reply": "2024-08-01T18:32:38.252191Z",
     "shell.execute_reply.started": "2024-08-01T18:32:38.065527Z"
    }
   },
   "outputs": [],
   "source": [
    "movies_new['genres'] = movies_new['genres'].apply(lambda x: [i.replace(\" \",\"\") for i in x])\n",
    "movies_new['keywords'] = movies_new['keywords'].apply(lambda x: [i.replace(\" \",\"\") for i in x])\n",
    "movies_new['cast'] = movies_new['cast'].apply(lambda x: [i.replace(\" \",\"\") for i in x])\n",
    "movies_new['crew'] = movies_new['crew'].apply(lambda x: [i.replace(\" \",\"\") for i in x])"
   ]
  },
  {
   "cell_type": "code",
   "execution_count": 12,
   "id": "74b5e551-9a52-46ba-8fdd-981faa587be1",
   "metadata": {
    "execution": {
     "iopub.execute_input": "2024-08-01T18:32:38.254701Z",
     "iopub.status.busy": "2024-08-01T18:32:38.254701Z",
     "iopub.status.idle": "2024-08-01T18:32:38.373500Z",
     "shell.execute_reply": "2024-08-01T18:32:38.372601Z",
     "shell.execute_reply.started": "2024-08-01T18:32:38.254701Z"
    }
   },
   "outputs": [],
   "source": [
    "movies_new['tags'] = movies_new['genres'] + movies_new['keywords'] + movies_new['overview'] + movies_new['cast'] + movies_new['crew']"
   ]
  },
  {
   "cell_type": "code",
   "execution_count": 13,
   "id": "b55be08b-2317-41cb-8297-204bf6c4b7db",
   "metadata": {
    "execution": {
     "iopub.execute_input": "2024-08-01T18:32:38.381402Z",
     "iopub.status.busy": "2024-08-01T18:32:38.373500Z",
     "iopub.status.idle": "2024-08-01T18:32:38.392048Z",
     "shell.execute_reply": "2024-08-01T18:32:38.392048Z",
     "shell.execute_reply.started": "2024-08-01T18:32:38.381402Z"
    }
   },
   "outputs": [],
   "source": [
    "data = movies_new[['movie_id','title','tags']]"
   ]
  },
  {
   "cell_type": "code",
   "execution_count": 14,
   "id": "df58a93a-f910-4566-984b-e86a6c72ae21",
   "metadata": {
    "execution": {
     "iopub.execute_input": "2024-08-01T18:32:38.402257Z",
     "iopub.status.busy": "2024-08-01T18:32:38.395620Z",
     "iopub.status.idle": "2024-08-01T18:32:38.485367Z",
     "shell.execute_reply": "2024-08-01T18:32:38.485367Z",
     "shell.execute_reply.started": "2024-08-01T18:32:38.402257Z"
    }
   },
   "outputs": [],
   "source": [
    "# convert list to string\n",
    "data.loc[:,'tags'] = data['tags'].apply(lambda x: \" \".join(x))\n",
    "# lowercase\n",
    "data.loc[:,'tags'] = data['tags'].apply(lambda x: x.lower())"
   ]
  },
  {
   "cell_type": "code",
   "execution_count": 15,
   "id": "8c189c26-8923-4e96-b522-1baab4a5b261",
   "metadata": {
    "execution": {
     "iopub.execute_input": "2024-08-01T18:32:38.493164Z",
     "iopub.status.busy": "2024-08-01T18:32:38.490550Z",
     "iopub.status.idle": "2024-08-01T18:34:03.780558Z",
     "shell.execute_reply": "2024-08-01T18:34:03.780558Z",
     "shell.execute_reply.started": "2024-08-01T18:32:38.492061Z"
    }
   },
   "outputs": [],
   "source": [
    "import nltk\n",
    "from nltk.stem.porter import PorterStemmer\n",
    "ps = PorterStemmer()\n",
    "\n",
    "def stem(text):\n",
    "    stem_words = []\n",
    "    for i in text.split():\n",
    "        stem_words.append(ps.stem(i))\n",
    "    return \" \".join(stem_words)"
   ]
  },
  {
   "cell_type": "code",
   "execution_count": 16,
   "id": "f080dcf7-8efa-4e6f-bddf-c1c94dc22fe9",
   "metadata": {
    "execution": {
     "iopub.execute_input": "2024-08-01T18:34:03.782839Z",
     "iopub.status.busy": "2024-08-01T18:34:03.782164Z",
     "iopub.status.idle": "2024-08-01T18:34:11.065631Z",
     "shell.execute_reply": "2024-08-01T18:34:11.065631Z",
     "shell.execute_reply.started": "2024-08-01T18:34:03.782839Z"
    }
   },
   "outputs": [],
   "source": [
    "data.loc[:,'tags'] = data['tags'].apply(stem)"
   ]
  },
  {
   "cell_type": "markdown",
   "id": "ea6f8faa-7d7a-4870-9e79-fb00d7a41540",
   "metadata": {},
   "source": [
    "# <b>Vectorization"
   ]
  },
  {
   "cell_type": "code",
   "execution_count": 17,
   "id": "643722cf-8542-4341-9a3a-fcf5efb34de5",
   "metadata": {
    "execution": {
     "iopub.execute_input": "2024-08-01T18:34:11.068149Z",
     "iopub.status.busy": "2024-08-01T18:34:11.065631Z",
     "iopub.status.idle": "2024-08-01T18:34:11.071122Z",
     "shell.execute_reply": "2024-08-01T18:34:11.071041Z",
     "shell.execute_reply.started": "2024-08-01T18:34:11.068149Z"
    }
   },
   "outputs": [],
   "source": [
    "from sklearn.feature_extraction.text import CountVectorizer\n",
    "cv = CountVectorizer(stop_words='english',max_features=5000)"
   ]
  },
  {
   "cell_type": "code",
   "execution_count": 18,
   "id": "944ddd66-2fc3-4a12-b338-5786f935d315",
   "metadata": {
    "execution": {
     "iopub.execute_input": "2024-08-01T18:34:11.074659Z",
     "iopub.status.busy": "2024-08-01T18:34:11.073152Z",
     "iopub.status.idle": "2024-08-01T18:34:11.717669Z",
     "shell.execute_reply": "2024-08-01T18:34:11.717669Z",
     "shell.execute_reply.started": "2024-08-01T18:34:11.074659Z"
    }
   },
   "outputs": [],
   "source": [
    "vectors = cv.fit_transform(data['tags']).toarray()"
   ]
  },
  {
   "cell_type": "code",
   "execution_count": 19,
   "id": "ccc7e837-d504-4928-af28-46cd939fd7b2",
   "metadata": {
    "execution": {
     "iopub.execute_input": "2024-08-01T18:34:11.721175Z",
     "iopub.status.busy": "2024-08-01T18:34:11.719917Z",
     "iopub.status.idle": "2024-08-01T18:34:18.881438Z",
     "shell.execute_reply": "2024-08-01T18:34:18.879914Z",
     "shell.execute_reply.started": "2024-08-01T18:34:11.721175Z"
    }
   },
   "outputs": [],
   "source": [
    "from sklearn.metrics.pairwise import cosine_similarity\n",
    "cs = cosine_similarity(vectors)"
   ]
  },
  {
   "cell_type": "code",
   "execution_count": 20,
   "id": "b723539e-416f-40c7-b86d-85cadab202e6",
   "metadata": {
    "execution": {
     "iopub.execute_input": "2024-08-01T18:34:18.881438Z",
     "iopub.status.busy": "2024-08-01T18:34:18.881438Z",
     "iopub.status.idle": "2024-08-01T18:34:18.935725Z",
     "shell.execute_reply": "2024-08-01T18:34:18.935725Z",
     "shell.execute_reply.started": "2024-08-01T18:34:18.881438Z"
    }
   },
   "outputs": [],
   "source": [
    "def recommend(movie):\n",
    "    idx = data[data['title'] == movie].index[0]\n",
    "    distances = cs[idx]\n",
    "    movies_list = sorted(list(enumerate(distances)), reverse=True, key=lambda x:x[1])[1:6]\n",
    "\n",
    "    for i in movies_list:\n",
    "        print(data.iloc[i[0]].title)"
   ]
  },
  {
   "cell_type": "code",
   "execution_count": 21,
   "id": "c8b3852c-bfa9-4e3d-9dd5-474efe0a87b8",
   "metadata": {
    "execution": {
     "iopub.execute_input": "2024-08-01T18:34:18.948299Z",
     "iopub.status.busy": "2024-08-01T18:34:18.948299Z",
     "iopub.status.idle": "2024-08-01T18:34:19.318202Z",
     "shell.execute_reply": "2024-08-01T18:34:19.318202Z",
     "shell.execute_reply.started": "2024-08-01T18:34:18.948299Z"
    }
   },
   "outputs": [],
   "source": [
    "import pickle\n",
    "pickle.dump(data.to_dict(),open('Output_file/movies.pkl','wb'))\n",
    "pickle.dump(cs,open('Output_file/similarity.pkl','wb'))"
   ]
  },
  {
   "cell_type": "code",
   "execution_count": null,
   "id": "910311c1-98eb-4a73-b0a8-f1b87f268e89",
   "metadata": {},
   "outputs": [],
   "source": []
  }
 ],
 "metadata": {
  "kernelspec": {
   "display_name": "Python 3 (ipykernel)",
   "language": "python",
   "name": "python3"
  },
  "language_info": {
   "codemirror_mode": {
    "name": "ipython",
    "version": 3
   },
   "file_extension": ".py",
   "mimetype": "text/x-python",
   "name": "python",
   "nbconvert_exporter": "python",
   "pygments_lexer": "ipython3",
   "version": "3.12.4"
  },
  "widgets": {
   "application/vnd.jupyter.widget-state+json": {
    "state": {},
    "version_major": 2,
    "version_minor": 0
   }
  }
 },
 "nbformat": 4,
 "nbformat_minor": 5
}
